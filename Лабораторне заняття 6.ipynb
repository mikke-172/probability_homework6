{
 "cells": [
  {
   "cell_type": "markdown",
   "metadata": {},
   "source": [
    "# Лабораторне заняття №6"
   ]
  },
  {
   "cell_type": "markdown",
   "metadata": {},
   "source": [
    "# Математичне сподівання та дисперсія\n",
    "На цьому занятті ми познайомимося з математичним сподіванням та дисперсією розглянутих раніше розподілів, які реалізовані в бібліотеці [SciPy](https://docs.scipy.org/doc/scipy/reference/).\n",
    "Із цього пакету будемо використовувати клас [scipy.stats](https://docs.scipy.org/doc/scipy/reference/stats.html), в якому реалізована велика кількість імовірнісних розподілів і статистичних функцій.\n",
    "\n",
    "Для візуалізації використаємо бібліотеку [Matplotlib](https://matplotlib.org/)."
   ]
  },
  {
   "cell_type": "code",
   "execution_count": 1,
   "metadata": {},
   "outputs": [],
   "source": [
    "import numpy as np\n",
    "import matplotlib.pyplot as plt"
   ]
  },
  {
   "cell_type": "markdown",
   "metadata": {},
   "source": [
    "## 1 Математичне сподівання"
   ]
  },
  {
   "cell_type": "markdown",
   "metadata": {},
   "source": [
    "### 1.1 Дискретні розподіли"
   ]
  },
  {
   "cell_type": "markdown",
   "metadata": {},
   "source": [
    "Нехай дискретна випадкова величина $\\xi$ набуває значень $x_1, x_2, \\ldots, x_n$ (це набір усіх можливих значень) з імовірностями $p_1, p_2, \\ldots, p_n$.\n",
    "Тоді її математичне сподівання визначається як\n",
    "$$\\mathsf{E}[\\xi] = \\sum \\limits_{k = 1}^{n} p_k x_k.$$"
   ]
  },
  {
   "cell_type": "markdown",
   "metadata": {},
   "source": [
    "Реалізуйте відповідну функцію підрахунку математичного сподівання."
   ]
  },
  {
   "cell_type": "code",
   "execution_count": 2,
   "metadata": {},
   "outputs": [],
   "source": [
    "def expectation(pk, xk):\n",
    "    # Місце для Вашого коду\n",
    "    sum=0\n",
    "    for k in range (min(len(pk), len(xk))):\n",
    "        sum+=pk[k]*xk[k]\n",
    "    return sum"
   ]
  },
  {
   "cell_type": "markdown",
   "metadata": {},
   "source": [
    "#### 1.1.1 Біноміальний розподіл"
   ]
  },
  {
   "cell_type": "markdown",
   "metadata": {},
   "source": [
    "Розглянемо випадкову величину $\\xi$ з біноміального розподілу з параметрами $n = 20, p = 0.6$.\n",
    "Тобто $\\xi \\sim Binom(20, 0.6)$."
   ]
  },
  {
   "cell_type": "code",
   "execution_count": 3,
   "metadata": {},
   "outputs": [],
   "source": [
    "from scipy.stats import binom\n",
    "\n",
    "n = 20\n",
    "p = 0.6"
   ]
  },
  {
   "cell_type": "markdown",
   "metadata": {},
   "source": [
    "Замість того, щоб явно вказувати параметри розподілу в усіх методах класу **binom**, можна визначити екземпляр цього класу з відповідними параметрами і потім застосовувати необхідні методи до цього екземпляру без задання параметрів розподілу.\n",
    "Це справедливо для всіх класів статистичних розподілів."
   ]
  },
  {
   "cell_type": "code",
   "execution_count": 4,
   "metadata": {},
   "outputs": [],
   "source": [
    "xi = binom(n=n, p=p)"
   ]
  },
  {
   "cell_type": "markdown",
   "metadata": {},
   "source": [
    "Для обрахунку математичного сподівання необхідно знати всі можливі значення випадкової величини та їх відповідні ймовірності.\n",
    "Прямого методу для отримання цих значень немає.\n",
    "Однак, можна отримати найменше та найбільше можливе значення випадкової величини."
   ]
  },
  {
   "cell_type": "code",
   "execution_count": 5,
   "metadata": {},
   "outputs": [],
   "source": [
    "x_min = xi.a\n",
    "x_max = xi.b"
   ]
  },
  {
   "cell_type": "markdown",
   "metadata": {},
   "source": [
    "Оскільки дискретні випадкові величини набувають лише цілих значень, то тепер можна відтворити всю множину."
   ]
  },
  {
   "cell_type": "code",
   "execution_count": 6,
   "metadata": {},
   "outputs": [],
   "source": [
    "xk = np.arange(x_min, x_max+1)"
   ]
  },
  {
   "cell_type": "markdown",
   "metadata": {},
   "source": [
    "Тепер можна отримати й імовірності усіх значень випадкової величини:\n",
    "$$p_k = p(x_k) = \\mathsf{P}(\\xi = x_k), \\quad 1 \\leq k \\leq n.$$"
   ]
  },
  {
   "cell_type": "code",
   "execution_count": 7,
   "metadata": {},
   "outputs": [],
   "source": [
    "pk = xi.pmf(xk)# Місце для Вашого коду"
   ]
  },
  {
   "cell_type": "markdown",
   "metadata": {},
   "source": [
    "Зобразимо графік щільності випадкової величини $\\xi$."
   ]
  },
  {
   "cell_type": "code",
   "execution_count": 8,
   "metadata": {
    "scrolled": true
   },
   "outputs": [
    {
     "data": {
      "image/png": "[encoded data removed]",
      "text/plain": [
       "<Figure size 720x360 with 1 Axes>"
      ]
     },
     "metadata": {
      "needs_background": "light"
     },
     "output_type": "display_data"
    }
   ],
   "source": [
    "fig = plt.figure(figsize=(10,5))\n",
    "# Місце для Вашого коду\n",
    "plt.stem(xk, pk)\n",
    "plt.show()"
   ]
  },
  {
   "cell_type": "markdown",
   "metadata": {},
   "source": [
    "Тоді математичне сподівання випадкової величини $\\xi$ дорівнює:"
   ]
  },
  {
   "cell_type": "code",
   "execution_count": 9,
   "metadata": {},
   "outputs": [
    {
     "name": "stdout",
     "output_type": "stream",
     "text": [
      "11.999999999999986\n"
     ]
    }
   ],
   "source": [
    "print(expectation(pk, xk))"
   ]
  },
  {
   "cell_type": "markdown",
   "metadata": {},
   "source": [
    "Використовуючи властивості **NumPy**-векторів, обрахунок математичного сподівання можна реалізувати набагато простіше."
   ]
  },
  {
   "cell_type": "markdown",
   "metadata": {},
   "source": [
    "Множення **NumPy**-векторів (за допомогою знаку множення **\\***) відбувається поелементно."
   ]
  },
  {
   "cell_type": "code",
   "execution_count": 10,
   "metadata": {},
   "outputs": [
    {
     "name": "stdout",
     "output_type": "stream",
     "text": [
      "11.999999999999986\n"
     ]
    }
   ],
   "source": [
    "print(sum(pk * xk))"
   ]
  },
  {
   "cell_type": "markdown",
   "metadata": {},
   "source": [
    "Або використовуючи скалярний добуток (векторне множення)."
   ]
  },
  {
   "cell_type": "code",
   "execution_count": 11,
   "metadata": {},
   "outputs": [
    {
     "name": "stdout",
     "output_type": "stream",
     "text": [
      "11.999999999999984\n"
     ]
    }
   ],
   "source": [
    "print(xk.dot(pk))"
   ]
  },
  {
   "cell_type": "markdown",
   "metadata": {},
   "source": [
    "У класах статистичних розподілів підрахунок математичного сподівання реалізований методом **mean** (загальний опис методу в [документації](https://docs.scipy.org/doc/scipy/reference/generated/scipy.stats.rv_discrete.mean.html))."
   ]
  },
  {
   "cell_type": "code",
   "execution_count": 12,
   "metadata": {},
   "outputs": [
    {
     "name": "stdout",
     "output_type": "stream",
     "text": [
      "12.0\n"
     ]
    }
   ],
   "source": [
    "print(xi.mean())"
   ]
  },
  {
   "cell_type": "markdown",
   "metadata": {},
   "source": [
    "Математичне сподівання можна також порахувати за допомогою методу **expect** (загальний опис методу в [документації](https://docs.scipy.org/doc/scipy/reference/generated/scipy.stats.rv_discrete.expect.html))."
   ]
  },
  {
   "cell_type": "code",
   "execution_count": 13,
   "metadata": {},
   "outputs": [
    {
     "name": "stdout",
     "output_type": "stream",
     "text": [
      "11.999999999999986\n"
     ]
    }
   ],
   "source": [
    "print(xi.expect())"
   ]
  },
  {
   "cell_type": "markdown",
   "metadata": {},
   "source": [
    "#### 1.1.1 Геометричний розподіл"
   ]
  },
  {
   "cell_type": "markdown",
   "metadata": {},
   "source": [
    "Розглянемо випадкову величину $\\xi$ з геометричного розподілу з параметром $p = 0.25$.\n",
    "Тобто $\\xi \\sim Geom(0.25)$."
   ]
  },
  {
   "cell_type": "code",
   "execution_count": 14,
   "metadata": {},
   "outputs": [],
   "source": [
    "from scipy.stats import geom\n",
    "\n",
    "p = 0.25"
   ]
  },
  {
   "cell_type": "code",
   "execution_count": 15,
   "metadata": {},
   "outputs": [],
   "source": [
    "xi = geom(p=p)"
   ]
  },
  {
   "cell_type": "markdown",
   "metadata": {},
   "source": [
    "Для обрахунку математичного сподівання необхідно знати всі можливі значення випадкової величини та їх відповідні ймовірності.\n",
    "Прямого методу для отримання цих значень немає.\n",
    "Однак, можна отримати найменше та найбільше можливе значення випадкової величини."
   ]
  },
  {
   "cell_type": "code",
   "execution_count": 16,
   "metadata": {},
   "outputs": [],
   "source": [
    "x_min = xi.a\n",
    "x_max = xi.b"
   ]
  },
  {
   "cell_type": "code",
   "execution_count": 17,
   "metadata": {},
   "outputs": [
    {
     "name": "stdout",
     "output_type": "stream",
     "text": [
      "1 inf\n"
     ]
    }
   ],
   "source": [
    "print(x_min, x_max)"
   ]
  },
  {
   "cell_type": "markdown",
   "metadata": {},
   "source": [
    "Верхня межа дорівнює нескінченності, тому можна провести лише ниближені обчислення."
   ]
  },
  {
   "cell_type": "code",
   "execution_count": 18,
   "metadata": {},
   "outputs": [],
   "source": [
    "xk = np.arange(x_min, 101)"
   ]
  },
  {
   "cell_type": "markdown",
   "metadata": {},
   "source": [
    "Тепер можна отримати й імовірності усіх значень випадкової величини:\n",
    "$$p_k = p(x_k) = \\mathsf{P}(\\xi = x_k), \\quad 1 \\leq k \\leq n.$$"
   ]
  },
  {
   "cell_type": "code",
   "execution_count": 19,
   "metadata": {},
   "outputs": [
    {
     "ename": "SyntaxError",
     "evalue": "invalid syntax (<ipython-input-19-439a1db4d592>, line 1)",
     "output_type": "error",
     "traceback": [
      "\u001b[1;36m  File \u001b[1;32m\"<ipython-input-19-439a1db4d592>\"\u001b[1;36m, line \u001b[1;32m1\u001b[0m\n\u001b[1;33m    pk = # Місце для Вашого коду\u001b[0m\n\u001b[1;37m                                ^\u001b[0m\n\u001b[1;31mSyntaxError\u001b[0m\u001b[1;31m:\u001b[0m invalid syntax\n"
     ]
    }
   ],
   "source": [
    "pk = # Місце для Вашого коду"
   ]
  },
  {
   "cell_type": "markdown",
   "metadata": {},
   "source": [
    "Зобразимо графік щільності випадкової величини $\\xi$."
   ]
  },
  {
   "cell_type": "code",
   "execution_count": null,
   "metadata": {},
   "outputs": [],
   "source": [
    "fig = plt.figure(figsize=(10,5))\n",
    "# Місце для Вашого коду\n",
    "plt.show()"
   ]
  },
  {
   "cell_type": "markdown",
   "metadata": {},
   "source": [
    "Тоді математичне сподівання випадкової величини $\\xi$ дорівнює:"
   ]
  },
  {
   "cell_type": "code",
   "execution_count": null,
   "metadata": {},
   "outputs": [],
   "source": [
    "print(expectation(pk, xk))"
   ]
  },
  {
   "cell_type": "markdown",
   "metadata": {},
   "source": [
    "Використовуючи властивості **NumPy**-векторів, обрахунок математичного сподівання можна реалізувати набагато простіше."
   ]
  },
  {
   "cell_type": "markdown",
   "metadata": {},
   "source": [
    "Множення **NumPy**-векторів (за допомогою знаку множення **\\***) відбувається поелементно."
   ]
  },
  {
   "cell_type": "code",
   "execution_count": null,
   "metadata": {},
   "outputs": [],
   "source": [
    "print(sum(pk * xk))"
   ]
  },
  {
   "cell_type": "markdown",
   "metadata": {},
   "source": [
    "Або використовуючи скалярний добуток (векторне множення)."
   ]
  },
  {
   "cell_type": "code",
   "execution_count": null,
   "metadata": {},
   "outputs": [],
   "source": [
    "print(xk.dot(pk))"
   ]
  },
  {
   "cell_type": "markdown",
   "metadata": {},
   "source": [
    "У класах статистичних розподілів підрахунок математичного сподівання реалізований методом **mean** (загальний опис методу в [документації](https://docs.scipy.org/doc/scipy/reference/generated/scipy.stats.rv_discrete.mean.html))."
   ]
  },
  {
   "cell_type": "code",
   "execution_count": null,
   "metadata": {},
   "outputs": [],
   "source": [
    "print(xi.mean())"
   ]
  },
  {
   "cell_type": "markdown",
   "metadata": {},
   "source": [
    "Математичне сподівання можна також порахувати за допомогою методу **expect** (загальний опис методу в [документації](https://docs.scipy.org/doc/scipy/reference/generated/scipy.stats.rv_discrete.expect.html))."
   ]
  },
  {
   "cell_type": "code",
   "execution_count": null,
   "metadata": {},
   "outputs": [],
   "source": [
    "print(xi.expect())"
   ]
  },
  {
   "cell_type": "markdown",
   "metadata": {},
   "source": [
    "### 1.2 Неперервні розподіли"
   ]
  },
  {
   "cell_type": "markdown",
   "metadata": {},
   "source": [
    "Нехай неперервна випадкова величина $\\xi$ має щільність $f(x)$.\n",
    "Тоді її математичне сподівання визначається як\n",
    "$$\\mathsf{E}[\\xi] = \\int \\limits_{- \\infty}^{\\infty} x f(x) \\, dx.$$"
   ]
  },
  {
   "cell_type": "markdown",
   "metadata": {},
   "source": [
    "#### 1.2.1 Рівномірний розподіл"
   ]
  },
  {
   "cell_type": "markdown",
   "metadata": {},
   "source": [
    "Розглянемо випадкову величину $\\xi$ з рівномірного розподілу з параметрами $a = -1, b = 4$.\n",
    "Тобто $\\xi \\sim Unif(-1, 4)$."
   ]
  },
  {
   "cell_type": "code",
   "execution_count": 20,
   "metadata": {},
   "outputs": [],
   "source": [
    "from scipy.stats import uniform\n",
    "\n",
    "a = -1\n",
    "b = 4"
   ]
  },
  {
   "cell_type": "markdown",
   "metadata": {},
   "source": [
    "Пам'ятаємо, що параметри цього розподілу необхідно виразити в аргументах $loc$ та $scale$."
   ]
  },
  {
   "cell_type": "code",
   "execution_count": 21,
   "metadata": {},
   "outputs": [],
   "source": [
    "loc = a\n",
    "scale = b - a"
   ]
  },
  {
   "cell_type": "code",
   "execution_count": 22,
   "metadata": {},
   "outputs": [],
   "source": [
    "xi = uniform(loc=loc, scale=scale)"
   ]
  },
  {
   "cell_type": "markdown",
   "metadata": {},
   "source": [
    "Зобразимо графік щільності випадкової величини $\\xi$ на відрізку $[a - 1, b + 1]$."
   ]
  },
  {
   "cell_type": "code",
   "execution_count": 25,
   "metadata": {},
   "outputs": [],
   "source": [
    "xk = np.arange (a-1, b+0.01, 0.01) # Місце для Вашого коду\n",
    "pk =xi.pdf(xk) # Місце для Вашого коду"
   ]
  },
  {
   "cell_type": "code",
   "execution_count": 26,
   "metadata": {},
   "outputs": [
    {
     "data": {
      "image/png": "[encoded data removed]",
      "text/plain": [
       "<Figure size 720x360 with 1 Axes>"
      ]
     },
     "metadata": {
      "needs_background": "light"
     },
     "output_type": "display_data"
    }
   ],
   "source": [
    "fig = plt.figure(figsize=(10,5))\n",
    "# Місце для Вашого коду\n",
    "plt.plot(xk,pk)\n",
    "plt.show()"
   ]
  },
  {
   "cell_type": "markdown",
   "metadata": {},
   "source": [
    "Тоді математичне сподівання випадкової величини $\\xi$ дорівнює:"
   ]
  },
  {
   "cell_type": "markdown",
   "metadata": {},
   "source": [
    "за допомогою методу **mean** (загальний опис методу в [документації](https://docs.scipy.org/doc/scipy/reference/generated/scipy.stats.rv_continuous.mean.html))"
   ]
  },
  {
   "cell_type": "code",
   "execution_count": 27,
   "metadata": {},
   "outputs": [
    {
     "name": "stdout",
     "output_type": "stream",
     "text": [
      "1.5\n"
     ]
    }
   ],
   "source": [
    "print(xi.mean())"
   ]
  },
  {
   "cell_type": "markdown",
   "metadata": {},
   "source": [
    "за допомогою методу **expect** (загальний опис методу в [документації](https://docs.scipy.org/doc/scipy/reference/generated/scipy.stats.rv_continuous.expect.html))"
   ]
  },
  {
   "cell_type": "code",
   "execution_count": null,
   "metadata": {},
   "outputs": [],
   "source": [
    "print(xi.expect())"
   ]
  },
  {
   "cell_type": "markdown",
   "metadata": {},
   "source": [
    "#### 1.2.1 Експоненційний розподіл"
   ]
  },
  {
   "cell_type": "markdown",
   "metadata": {},
   "source": [
    "Розглянемо випадкову величину $\\xi$ з експоненційного розподілу з параметром $\\lambda = 0.75$.\n",
    "Тобто $\\xi \\sim Exp(0.75)$."
   ]
  },
  {
   "cell_type": "code",
   "execution_count": null,
   "metadata": {},
   "outputs": [],
   "source": [
    "from scipy.stats import expon\n",
    "\n",
    "lmd = 0.75"
   ]
  },
  {
   "cell_type": "markdown",
   "metadata": {},
   "source": [
    "Пам'ятаємо, що параметри цього розподілу необхідно виразити в аргументах $loc$ та $scale$."
   ]
  },
  {
   "cell_type": "code",
   "execution_count": null,
   "metadata": {},
   "outputs": [],
   "source": [
    "loc = # Місце для Вашого коду\n",
    "scale = # Місце для Вашого коду"
   ]
  },
  {
   "cell_type": "code",
   "execution_count": null,
   "metadata": {},
   "outputs": [],
   "source": [
    "xi = expon(loc=loc, scale=scale)"
   ]
  },
  {
   "cell_type": "markdown",
   "metadata": {},
   "source": [
    "Зобразимо графік щільності випадкової величини $\\xi$ на відрізку $[-1, 10]$."
   ]
  },
  {
   "cell_type": "code",
   "execution_count": null,
   "metadata": {},
   "outputs": [],
   "source": [
    "xk = # Місце для Вашого коду\n",
    "pk = # Місце для Вашого коду"
   ]
  },
  {
   "cell_type": "code",
   "execution_count": null,
   "metadata": {},
   "outputs": [],
   "source": [
    "fig = plt.figure(figsize=(10,5))\n",
    "# Місце для Вашого коду\n",
    "plt.show()"
   ]
  },
  {
   "cell_type": "markdown",
   "metadata": {},
   "source": [
    "Тоді математичне сподівання випадкової величини $\\xi$ дорівнює:"
   ]
  },
  {
   "cell_type": "markdown",
   "metadata": {},
   "source": [
    "за допомогою методу **mean** (загальний опис методу в [документації](https://docs.scipy.org/doc/scipy/reference/generated/scipy.stats.rv_continuous.mean.html))"
   ]
  },
  {
   "cell_type": "code",
   "execution_count": null,
   "metadata": {},
   "outputs": [],
   "source": [
    "print(xi.mean())"
   ]
  },
  {
   "cell_type": "markdown",
   "metadata": {},
   "source": [
    "за допомогою методу **expect** (загальний опис методу в [документації](https://docs.scipy.org/doc/scipy/reference/generated/scipy.stats.rv_continuous.expect.html))"
   ]
  },
  {
   "cell_type": "code",
   "execution_count": null,
   "metadata": {},
   "outputs": [],
   "source": [
    "print(xi.expect())"
   ]
  },
  {
   "cell_type": "markdown",
   "metadata": {},
   "source": [
    "## 2 Дисперсія"
   ]
  },
  {
   "cell_type": "markdown",
   "metadata": {},
   "source": [
    "Для випадкової величини $\\xi$ дисперсія визначається як\n",
    "$$\\mathsf{D}(\\xi) = \\mathsf{Var}[\\xi]\n",
    "= \\mathsf{E} \\left[ \\left( \\xi - \\mathsf{E}[\\xi] \\right)^2 \\right]\n",
    "= \\mathsf{E}[\\xi^2] - \\left( \\mathsf{E}[\\xi] \\right)^2.$$"
   ]
  },
  {
   "cell_type": "markdown",
   "metadata": {},
   "source": [
    "### 1.1 Дискретні розподіли"
   ]
  },
  {
   "cell_type": "markdown",
   "metadata": {},
   "source": [
    "Нехай дискретна випадкова величина $\\xi$ набуває значень $x_1, x_2, \\ldots, x_n$ (це набір усіх можливих значень) з імовірностями $p_1, p_2, \\ldots, p_n$.\n",
    "Тоді для деякої функції $g$ математичне сподівання випадкової величини $g(\\xi)$ визначається як\n",
    "$$\\mathsf{E}[g(\\xi)] = \\sum \\limits_{k = 1}^{n} p_k g(x_k).$$"
   ]
  },
  {
   "cell_type": "markdown",
   "metadata": {},
   "source": [
    "#### 1.1.1 Біноміальний розподіл"
   ]
  },
  {
   "cell_type": "markdown",
   "metadata": {},
   "source": [
    "Розглянемо випадкову величину $\\xi$ з біноміального розподілу з параметрами $n = 20, p = 0.6$.\n",
    "Тобто $\\xi \\sim Binom(20, 0.6)$."
   ]
  },
  {
   "cell_type": "code",
   "execution_count": null,
   "metadata": {},
   "outputs": [],
   "source": [
    "from scipy.stats import binom\n",
    "\n",
    "n = 20\n",
    "p = 0.6"
   ]
  },
  {
   "cell_type": "code",
   "execution_count": null,
   "metadata": {},
   "outputs": [],
   "source": [
    "xi = binom(n=n, p=p)"
   ]
  },
  {
   "cell_type": "code",
   "execution_count": null,
   "metadata": {},
   "outputs": [],
   "source": [
    "x_min = xi.a\n",
    "x_max = xi.b"
   ]
  },
  {
   "cell_type": "code",
   "execution_count": null,
   "metadata": {},
   "outputs": [],
   "source": [
    "xk = np.arange(x_min, x_max+1)"
   ]
  },
  {
   "cell_type": "code",
   "execution_count": null,
   "metadata": {},
   "outputs": [],
   "source": [
    "pk = xi.pmf(xk)"
   ]
  },
  {
   "cell_type": "markdown",
   "metadata": {},
   "source": [
    "Тоді дисперсія випадкової величини $\\xi$ дорівнює:"
   ]
  },
  {
   "cell_type": "code",
   "execution_count": null,
   "metadata": {},
   "outputs": [],
   "source": [
    "g_xk = (xk - expectation(pk, xk))**2\n",
    "print(expectation(pk, g_xk))"
   ]
  },
  {
   "cell_type": "markdown",
   "metadata": {},
   "source": [
    "У класах статистичних розподілів підрахунок дисперсії реалізований методом **var** (загальний опис методу в [документації](https://docs.scipy.org/doc/scipy/reference/generated/scipy.stats.rv_discrete.var.html))."
   ]
  },
  {
   "cell_type": "code",
   "execution_count": null,
   "metadata": {},
   "outputs": [],
   "source": [
    "print(xi.var())"
   ]
  },
  {
   "cell_type": "markdown",
   "metadata": {},
   "source": [
    "Дисперсію можна також порахувати за допомогою методу **expect** (загальний опис методу в [документації](https://docs.scipy.org/doc/scipy/reference/generated/scipy.stats.rv_discrete.expect.html))."
   ]
  },
  {
   "cell_type": "code",
   "execution_count": null,
   "metadata": {},
   "outputs": [],
   "source": [
    "def f(x):\n",
    "    return (x - xi.expect())**2\n",
    "print(xi.expect(f))"
   ]
  },
  {
   "cell_type": "markdown",
   "metadata": {},
   "source": [
    "#### 1.1.2 Геометричний розподіл\n",
    "Реалізуйте підрахунок дисперсії для $\\xi \\sim Geom(0.25)$."
   ]
  },
  {
   "cell_type": "markdown",
   "metadata": {},
   "source": [
    "### 1.2 Неперервні розподіли"
   ]
  },
  {
   "cell_type": "markdown",
   "metadata": {},
   "source": [
    "Нехай неперервна випадкова величина $\\xi$ має щільність $f(x)$.\n",
    "Тоді для деякої функції $g$ математичне сподівання випадкової величини $g(\\xi)$ визначається як\n",
    "$$\\mathsf{E}[g(\\xi)] = \\int \\limits_{- \\infty}^{\\infty} g(x) f(x) \\, dx.$$"
   ]
  },
  {
   "cell_type": "markdown",
   "metadata": {},
   "source": [
    "#### 1.2.1 Рівномірний розподіл"
   ]
  },
  {
   "cell_type": "markdown",
   "metadata": {},
   "source": [
    "Розглянемо випадкову величину $\\xi$ з рівномірного розподілу з параметрами $a = -1, b = 4$.\n",
    "Тобто $\\xi \\sim Unif(-1, 4)$."
   ]
  },
  {
   "cell_type": "code",
   "execution_count": null,
   "metadata": {},
   "outputs": [],
   "source": [
    "from scipy.stats import uniform\n",
    "\n",
    "a = -1\n",
    "b = 4"
   ]
  },
  {
   "cell_type": "code",
   "execution_count": null,
   "metadata": {},
   "outputs": [],
   "source": [
    "loc = a\n",
    "scale = b - a"
   ]
  },
  {
   "cell_type": "code",
   "execution_count": null,
   "metadata": {},
   "outputs": [],
   "source": [
    "xi = uniform(loc=loc, scale=scale)"
   ]
  },
  {
   "cell_type": "markdown",
   "metadata": {},
   "source": [
    "Тоді дисперсія випадкової величини $\\xi$ дорівнює:"
   ]
  },
  {
   "cell_type": "markdown",
   "metadata": {},
   "source": [
    "за допомогою методу **var** (загальний опис методу в [документації](https://docs.scipy.org/doc/scipy/reference/generated/scipy.stats.rv_continuous.var.html))"
   ]
  },
  {
   "cell_type": "code",
   "execution_count": null,
   "metadata": {},
   "outputs": [],
   "source": [
    "print(xi.var())"
   ]
  },
  {
   "cell_type": "markdown",
   "metadata": {},
   "source": [
    "за допомогою методу **expect** (загальний опис методу в [документації](https://docs.scipy.org/doc/scipy/reference/generated/scipy.stats.rv_continuous.expect.html))"
   ]
  },
  {
   "cell_type": "code",
   "execution_count": null,
   "metadata": {},
   "outputs": [],
   "source": [
    "print(xi.expect(f))"
   ]
  },
  {
   "cell_type": "markdown",
   "metadata": {},
   "source": [
    "#### 1.2.2 Експоненційний розподіл\n",
    "Реалізуйте підрахунок дисперсії для $\\xi \\sim Exp(0.75)$."
   ]
  },
  {
   "cell_type": "markdown",
   "metadata": {
    "collapsed": true
   },
   "source": [
    "## 3 Метод `stats`"
   ]
  },
  {
   "cell_type": "markdown",
   "metadata": {},
   "source": [
    "Повертає математичне сподівання та дисперсію випадкової величини."
   ]
  },
  {
   "cell_type": "code",
   "execution_count": 28,
   "metadata": {},
   "outputs": [
    {
     "name": "stdout",
     "output_type": "stream",
     "text": [
      "(array(12.), array(4.8))\n"
     ]
    }
   ],
   "source": [
    "xi = binom(n=20, p=0.6)\n",
    "print(xi.stats())"
   ]
  },
  {
   "cell_type": "code",
   "execution_count": 29,
   "metadata": {},
   "outputs": [
    {
     "name": "stdout",
     "output_type": "stream",
     "text": [
      "(array(1.5), array(2.08333333))\n"
     ]
    }
   ],
   "source": [
    "xi = uniform(-1, 5)\n",
    "print(xi.stats())"
   ]
  },
  {
   "cell_type": "code",
   "execution_count": null,
   "metadata": {},
   "outputs": [],
   "source": []
  }
 ],
 "metadata": {
  "kernelspec": {
   "display_name": "Python 3",
   "language": "python",
   "name": "python3"
  },
  "language_info": {
   "codemirror_mode": {
    "name": "ipython",
    "version": 3
   },
   "file_extension": ".py",
   "mimetype": "text/x-python",
   "name": "python",
   "nbconvert_exporter": "python",
   "pygments_lexer": "ipython3",
   "version": "3.7.1"
  }
 },
 "nbformat": 4,
 "nbformat_minor": 1
}
