{
 "cells": [
  {
   "cell_type": "markdown",
   "metadata": {},
   "source": [
    "# Додаткові завдання №6"
   ]
  },
  {
   "cell_type": "markdown",
   "metadata": {},
   "source": [
    "## 1 Парадокс днів народження"
   ]
  },
  {
   "cell_type": "markdown",
   "metadata": {},
   "source": [
    "Нехай маємо $n$ людей.\n",
    "Їх дні народження припадають на один з 12 місяців.\n",
    "Нехай тоді випадкова величина $\\xi$ - це кількість співпадінь місяців народжень серед цих $n$ людей.\n",
    "\n",
    "Напишіть функцію для обрахунку щільності випадкової величини $\\xi$ (тобто усі ймовірності $\\mathsf{P}(\\xi = k)$ для відповідних значень $k$) в залежності від кількості $n$ людей методом повного перебору.\n",
    "Виведіть результат для $n = 1, 2, 3, 4, 5, 6.$\n",
    "\n",
    "Напишіть теоретичні формули для щільності випадкової величини $\\xi$.\n",
    "Порівняйте теоретичні значення з обчисленими повним перебором.\n",
    "\n",
    "Для якого $n$ ймовірність хоча б одного співпадіння не менша $\\frac{1}{2}$ (тобто $\\mathsf{P}(\\xi > 0) \\geq \\frac{1}{2}$)?\n",
    "\n",
    "**Зауваження.** Кількість співпадінь означає кількість однакових пар. Наприклад,\n",
    "- у наборі $\\{ 1, 1, 2, 3 \\}$ є одна пара;\n",
    "- у наборі $\\{ 1, 1, 1, 3 \\}$ є три пари;\n",
    "- у наборі $\\{ 1, 1, 1, 1 \\}$ є шість пар."
   ]
  },
  {
   "cell_type": "code",
   "execution_count": 25,
   "metadata": {},
   "outputs": [
    {
     "name": "stdout",
     "output_type": "stream",
     "text": [
      "1\n",
      "{0: 12}\n",
      "[1.0]\n"
     ]
    },
    {
     "data": {
      "image/png": "[encoded data removed]",
      "text/plain": [
       "<Figure size 432x288 with 1 Axes>"
      ]
     },
     "metadata": {
      "needs_background": "light"
     },
     "output_type": "display_data"
    },
    {
     "name": "stdout",
     "output_type": "stream",
     "text": [
      "2\n",
      "{0: 133, 1: 11}\n",
      "[0.9236111111111112, 0.0763888888888889]\n"
     ]
    },
    {
     "data": {
      "image/png": "[encoded data removed]",
      "text/plain": [
       "<Figure size 432x288 with 1 Axes>"
      ]
     },
     "metadata": {
      "needs_background": "light"
     },
     "output_type": "display_data"
    },
    {
     "name": "stdout",
     "output_type": "stream",
     "text": [
      "3\n",
      "{0: 1354, 1: 363, 2: 0, 3: 11}\n",
      "[0.7835648148148148, 0.21006944444444445, 0.0, 0.00636574074074074]\n"
     ]
    },
    {
     "data": {
      "image/png": "[encoded data removed]",
      "text/plain": [
       "<Figure size 432x288 with 1 Axes>"
      ]
     },
     "metadata": {
      "needs_background": "light"
     },
     "output_type": "display_data"
    },
    {
     "name": "stdout",
     "output_type": "stream",
     "text": [
      "4\n",
      "{0: 12585, 1: 7326, 2: 330, 3: 484, 4: 0, 5: 0, 6: 11}\n",
      "[0.6069155092592593, 0.3532986111111111, 0.015914351851851853, 0.02334104938271605, 0.0, 0.0, 0.0005304783950617284]\n"
     ]
    },
    {
     "data": {
      "image/png": "[encoded data removed]",
      "text/plain": [
       "<Figure size 432x288 with 1 Axes>"
      ]
     },
     "metadata": {
      "needs_background": "light"
     },
     "output_type": "display_data"
    },
    {
     "name": "stdout",
     "output_type": "stream",
     "text": [
      "5\n",
      "{0: 106096, 1: 112310, 2: 16500, 3: 12210, 4: 1100, 5: 0, 6: 605, 7: 0, 8: 0, 9: 0, 10: 11}\n",
      "[0.4263760288065844, 0.45134870113168724, 0.06630979938271606, 0.049069251543209874, 0.00442065329218107, 0.0, 0.0024313593106995886, 0.0, 0.0, 0.0, 4.42065329218107e-05]\n"
     ]
    },
    {
     "data": {
      "image/png": "[encoded data removed]",
      "text/plain": [
       "<Figure size 432x288 with 1 Axes>"
      ]
     },
     "metadata": {
      "needs_background": "light"
     },
     "output_type": "display_data"
    }
   ],
   "source": [
    "# Місце для Вашого коду\n",
    "import numpy as np\n",
    "import matplotlib.pyplot as plt\n",
    "def task(n):\n",
    "        print(n)\n",
    "        list_of_variants=[[]]\n",
    "        for i in range(n):\n",
    "            new_list=[]\n",
    "            for j in list_of_variants:\n",
    "\n",
    "                for k in range(1,13):\n",
    "                    p=j.copy()\n",
    "                    new_list.append(p+[k])\n",
    "                #new_list.append()\n",
    "            list_of_variants=new_list.copy()\n",
    "        dictionary=dict()\n",
    "        #print(list_of_variants)\n",
    "        for i in range (0, int(n*(n-1)/2+1)):\n",
    "            dictionary.update({i:0})\n",
    "        for i in (list_of_variants):\n",
    "            kilkist=0\n",
    "            for j in range (12):\n",
    "                num=float(format(sum(np.array(i)==j)))\n",
    "                kilkist+=num*(num-1)/2\n",
    "                    #print('kilkist', kilkist)\n",
    "            dictionary[kilkist]+=1\n",
    "        print(dictionary)\n",
    "        return(dictionary)\n",
    "class birthday:\n",
    "    def __init__(self, n):\n",
    "        self.dictionary=task(n)\n",
    "        self.kilkist=12**n\n",
    "    def pdf(self, x):\n",
    "        if x in self.dictionary:\n",
    "\n",
    "              return(self.dictionary[x]/(self.kilkist))\n",
    "        else:\n",
    "            return(0)\n",
    "    \n",
    "for i in range (1, 6):\n",
    "    example=birthday(i)\n",
    "    x = range(0, int(1+i*(i-1)/2), 1)\n",
    "    y=[]\n",
    "    for i in  x:\n",
    "        y.append(example.pdf(i))\n",
    "    print(y)\n",
    "    x=np.array(x)\n",
    "    y=np.array(y)\n",
    "    plt.stem(x, y)\n",
    "    plt.show()\n"
   ]
  }
 ],
 "metadata": {
  "kernelspec": {
   "display_name": "Python 3",
   "language": "python",
   "name": "python3"
  },
  "language_info": {
   "codemirror_mode": {
    "name": "ipython",
    "version": 3
   },
   "file_extension": ".py",
   "mimetype": "text/x-python",
   "name": "python",
   "nbconvert_exporter": "python",
   "pygments_lexer": "ipython3",
   "version": "3.7.1"
  }
 },
 "nbformat": 4,
 "nbformat_minor": 1
}
